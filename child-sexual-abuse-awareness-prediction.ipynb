{
 "cells": [
  {
   "cell_type": "code",
   "execution_count": 1,
   "id": "2351666d",
   "metadata": {
    "_cell_guid": "b1076dfc-b9ad-4769-8c92-a6c4dae69d19",
    "_uuid": "8f2839f25d086af736a60e9eeb907d3b93b6e0e5",
    "execution": {
     "iopub.execute_input": "2022-11-27T22:25:54.899970Z",
     "iopub.status.busy": "2022-11-27T22:25:54.898692Z",
     "iopub.status.idle": "2022-11-27T22:25:54.926004Z",
     "shell.execute_reply": "2022-11-27T22:25:54.924600Z"
    },
    "papermill": {
     "duration": 0.048993,
     "end_time": "2022-11-27T22:25:54.929899",
     "exception": false,
     "start_time": "2022-11-27T22:25:54.880906",
     "status": "completed"
    },
    "tags": []
   },
   "outputs": [
    {
     "name": "stdout",
     "output_type": "stream",
     "text": [
      "/kaggle/input/child-sexual-abuse-awareness-knowledge-level/CSA-Data.csv\n"
     ]
    }
   ],
   "source": [
    "# This Python 3 environment comes with many helpful analytics libraries installed\n",
    "# It is defined by the kaggle/python Docker image: https://github.com/kaggle/docker-python\n",
    "# For example, here's several helpful packages to load\n",
    "\n",
    "import numpy as np # linear algebra\n",
    "import pandas as pd # data processing, CSV file I/O (e.g. pd.read_csv)\n",
    "\n",
    "# Input data files are available in the read-only \"../input/\" directory\n",
    "# For example, running this (by clicking run or pressing Shift+Enter) will list all files under the input directory\n",
    "\n",
    "import os\n",
    "for dirname, _, filenames in os.walk('/kaggle/input'):\n",
    "    for filename in filenames:\n",
    "        print(os.path.join(dirname, filename))\n",
    "\n",
    "# You can write up to 20GB to the current directory (/kaggle/working/) that gets preserved as output when you create a version using \"Save & Run All\" \n",
    "# You can also write temporary files to /kaggle/temp/, but they won't be saved outside of the current session"
   ]
  },
  {
   "cell_type": "markdown",
   "id": "465f01b3",
   "metadata": {
    "papermill": {
     "duration": 0.014593,
     "end_time": "2022-11-27T22:25:54.957993",
     "exception": false,
     "start_time": "2022-11-27T22:25:54.943400",
     "status": "completed"
    },
    "tags": []
   },
   "source": [
    "# Import Libraries"
   ]
  },
  {
   "cell_type": "code",
   "execution_count": 2,
   "id": "0e0bb38d",
   "metadata": {
    "execution": {
     "iopub.execute_input": "2022-11-27T22:25:54.986009Z",
     "iopub.status.busy": "2022-11-27T22:25:54.985531Z",
     "iopub.status.idle": "2022-11-27T22:25:56.647572Z",
     "shell.execute_reply": "2022-11-27T22:25:56.646498Z"
    },
    "papermill": {
     "duration": 1.679869,
     "end_time": "2022-11-27T22:25:56.650718",
     "exception": false,
     "start_time": "2022-11-27T22:25:54.970849",
     "status": "completed"
    },
    "tags": []
   },
   "outputs": [],
   "source": [
    "import pandas as pd\n",
    "import seaborn as sns\n",
    "from sklearn.preprocessing import LabelEncoder\n",
    "from sklearn.model_selection import train_test_split\n",
    "from sklearn.linear_model import LogisticRegression\n",
    "from sklearn.ensemble import RandomForestClassifier\n",
    "from sklearn.tree import DecisionTreeClassifier\n",
    "from sklearn.svm import SVC\n",
    "import matplotlib.pyplot as plt\n",
    "from sklearn.metrics import confusion_matrix\n",
    "from sklearn.metrics import accuracy_score\n",
    "from sklearn.metrics import f1_score\n",
    "from sklearn.metrics import recall_score\n",
    "from sklearn.metrics import precision_score\n",
    "from sklearn.metrics import precision_recall_curve\n",
    "from sklearn.metrics import classification_report\n",
    "from sklearn.metrics import roc_auc_score"
   ]
  },
  {
   "cell_type": "markdown",
   "id": "89d60959",
   "metadata": {
    "papermill": {
     "duration": 0.012144,
     "end_time": "2022-11-27T22:25:56.676242",
     "exception": false,
     "start_time": "2022-11-27T22:25:56.664098",
     "status": "completed"
    },
    "tags": []
   },
   "source": [
    "# Read Data"
   ]
  },
  {
   "cell_type": "code",
   "execution_count": 3,
   "id": "85121926",
   "metadata": {
    "execution": {
     "iopub.execute_input": "2022-11-27T22:25:56.704175Z",
     "iopub.status.busy": "2022-11-27T22:25:56.702812Z",
     "iopub.status.idle": "2022-11-27T22:25:56.733142Z",
     "shell.execute_reply": "2022-11-27T22:25:56.731786Z"
    },
    "papermill": {
     "duration": 0.04759,
     "end_time": "2022-11-27T22:25:56.736329",
     "exception": false,
     "start_time": "2022-11-27T22:25:56.688739",
     "status": "completed"
    },
    "tags": []
   },
   "outputs": [],
   "source": [
    "data=pd.read_csv('/kaggle/input/child-sexual-abuse-awareness-knowledge-level/CSA-Data.csv')"
   ]
  },
  {
   "cell_type": "markdown",
   "id": "b902d6d1",
   "metadata": {
    "papermill": {
     "duration": 0.013001,
     "end_time": "2022-11-27T22:25:56.762205",
     "exception": false,
     "start_time": "2022-11-27T22:25:56.749204",
     "status": "completed"
    },
    "tags": []
   },
   "source": [
    "# Show 10 frist row in data"
   ]
  },
  {
   "cell_type": "code",
   "execution_count": 4,
   "id": "fb3293fd",
   "metadata": {
    "execution": {
     "iopub.execute_input": "2022-11-27T22:25:56.789606Z",
     "iopub.status.busy": "2022-11-27T22:25:56.789128Z",
     "iopub.status.idle": "2022-11-27T22:25:56.820039Z",
     "shell.execute_reply": "2022-11-27T22:25:56.818772Z"
    },
    "papermill": {
     "duration": 0.047692,
     "end_time": "2022-11-27T22:25:56.822486",
     "exception": false,
     "start_time": "2022-11-27T22:25:56.774794",
     "status": "completed"
    },
    "tags": []
   },
   "outputs": [
    {
     "data": {
      "text/html": [
       "<div>\n",
       "<style scoped>\n",
       "    .dataframe tbody tr th:only-of-type {\n",
       "        vertical-align: middle;\n",
       "    }\n",
       "\n",
       "    .dataframe tbody tr th {\n",
       "        vertical-align: top;\n",
       "    }\n",
       "\n",
       "    .dataframe thead th {\n",
       "        text-align: right;\n",
       "    }\n",
       "</style>\n",
       "<table border=\"1\" class=\"dataframe\">\n",
       "  <thead>\n",
       "    <tr style=\"text-align: right;\">\n",
       "      <th></th>\n",
       "      <th>\"Children are safe among family members such as grandparents, uncles, aunts, cousins\"</th>\n",
       "      <th>\"Children are mainly abused by strangers in our society\"</th>\n",
       "      <th>Male children dont need sexual abuse prevention knowledge</th>\n",
       "      <th>\"Teaching sexual abuse prevention in school is not necessary. It will make children curious about sex\"</th>\n",
       "      <th>Do you know what child grooming is?</th>\n",
       "      <th>Do you know what signs to look for to identify if your child has been abused?</th>\n",
       "      <th>Do you think children need post abuse counseling for recovering?</th>\n",
       "      <th>Do you think you should take legal action against the abuser of your child?</th>\n",
       "      <th>Knowledge Level</th>\n",
       "    </tr>\n",
       "  </thead>\n",
       "  <tbody>\n",
       "    <tr>\n",
       "      <th>0</th>\n",
       "      <td>Agree</td>\n",
       "      <td>Agree</td>\n",
       "      <td>Disagree</td>\n",
       "      <td>Agree</td>\n",
       "      <td>No</td>\n",
       "      <td>No</td>\n",
       "      <td>No</td>\n",
       "      <td>Yes</td>\n",
       "      <td>Beginner</td>\n",
       "    </tr>\n",
       "    <tr>\n",
       "      <th>1</th>\n",
       "      <td>Agree</td>\n",
       "      <td>Agree</td>\n",
       "      <td>Disagree</td>\n",
       "      <td>Disagree</td>\n",
       "      <td>No</td>\n",
       "      <td>No</td>\n",
       "      <td>Yes</td>\n",
       "      <td>Yes</td>\n",
       "      <td>Beginner</td>\n",
       "    </tr>\n",
       "    <tr>\n",
       "      <th>2</th>\n",
       "      <td>Disagree</td>\n",
       "      <td>Disagree</td>\n",
       "      <td>Disagree</td>\n",
       "      <td>Disagree</td>\n",
       "      <td>No</td>\n",
       "      <td>No</td>\n",
       "      <td>Yes</td>\n",
       "      <td>Yes</td>\n",
       "      <td>Beginner</td>\n",
       "    </tr>\n",
       "    <tr>\n",
       "      <th>3</th>\n",
       "      <td>Agree</td>\n",
       "      <td>Agree</td>\n",
       "      <td>Disagree</td>\n",
       "      <td>Disagree</td>\n",
       "      <td>No</td>\n",
       "      <td>No</td>\n",
       "      <td>Yes</td>\n",
       "      <td>Yes</td>\n",
       "      <td>Beginner</td>\n",
       "    </tr>\n",
       "    <tr>\n",
       "      <th>4</th>\n",
       "      <td>Agree</td>\n",
       "      <td>Disagree</td>\n",
       "      <td>Disagree</td>\n",
       "      <td>Disagree</td>\n",
       "      <td>Yes</td>\n",
       "      <td>Yes</td>\n",
       "      <td>Yes</td>\n",
       "      <td>Yes</td>\n",
       "      <td>Intermediate</td>\n",
       "    </tr>\n",
       "    <tr>\n",
       "      <th>5</th>\n",
       "      <td>Agree</td>\n",
       "      <td>Disagree</td>\n",
       "      <td>Agree</td>\n",
       "      <td>Agree</td>\n",
       "      <td>Yes</td>\n",
       "      <td>Yes</td>\n",
       "      <td>Yes</td>\n",
       "      <td>No</td>\n",
       "      <td>Intermediate</td>\n",
       "    </tr>\n",
       "    <tr>\n",
       "      <th>6</th>\n",
       "      <td>Disagree</td>\n",
       "      <td>Disagree</td>\n",
       "      <td>Agree</td>\n",
       "      <td>Agree</td>\n",
       "      <td>Yes</td>\n",
       "      <td>No</td>\n",
       "      <td>Yes</td>\n",
       "      <td>Yes</td>\n",
       "      <td>Intermediate</td>\n",
       "    </tr>\n",
       "    <tr>\n",
       "      <th>7</th>\n",
       "      <td>Disagree</td>\n",
       "      <td>Disagree</td>\n",
       "      <td>Disagree</td>\n",
       "      <td>Disagree</td>\n",
       "      <td>Yes</td>\n",
       "      <td>Yes</td>\n",
       "      <td>Yes</td>\n",
       "      <td>No</td>\n",
       "      <td>Intermediate</td>\n",
       "    </tr>\n",
       "    <tr>\n",
       "      <th>8</th>\n",
       "      <td>Disagree</td>\n",
       "      <td>Disagree</td>\n",
       "      <td>Disagree</td>\n",
       "      <td>Disagree</td>\n",
       "      <td>Yes</td>\n",
       "      <td>Yes</td>\n",
       "      <td>No</td>\n",
       "      <td>Yes</td>\n",
       "      <td>Intermediate</td>\n",
       "    </tr>\n",
       "    <tr>\n",
       "      <th>9</th>\n",
       "      <td>Agree</td>\n",
       "      <td>Disagree</td>\n",
       "      <td>Agree</td>\n",
       "      <td>Agree</td>\n",
       "      <td>Yes</td>\n",
       "      <td>Yes</td>\n",
       "      <td>Yes</td>\n",
       "      <td>Yes</td>\n",
       "      <td>Intermediate</td>\n",
       "    </tr>\n",
       "  </tbody>\n",
       "</table>\n",
       "</div>"
      ],
      "text/plain": [
       "  \"Children are safe among family members such as grandparents, uncles, aunts, cousins\"  \\\n",
       "0                                              Agree                                      \n",
       "1                                              Agree                                      \n",
       "2                                           Disagree                                      \n",
       "3                                              Agree                                      \n",
       "4                                              Agree                                      \n",
       "5                                              Agree                                      \n",
       "6                                           Disagree                                      \n",
       "7                                           Disagree                                      \n",
       "8                                           Disagree                                      \n",
       "9                                              Agree                                      \n",
       "\n",
       "  \"Children are mainly abused by strangers in our society\"  \\\n",
       "0                                              Agree         \n",
       "1                                              Agree         \n",
       "2                                           Disagree         \n",
       "3                                              Agree         \n",
       "4                                           Disagree         \n",
       "5                                           Disagree         \n",
       "6                                           Disagree         \n",
       "7                                           Disagree         \n",
       "8                                           Disagree         \n",
       "9                                           Disagree         \n",
       "\n",
       "  Male children dont need sexual abuse prevention knowledge  \\\n",
       "0                                           Disagree          \n",
       "1                                           Disagree          \n",
       "2                                           Disagree          \n",
       "3                                           Disagree          \n",
       "4                                           Disagree          \n",
       "5                                              Agree          \n",
       "6                                              Agree          \n",
       "7                                           Disagree          \n",
       "8                                           Disagree          \n",
       "9                                              Agree          \n",
       "\n",
       "  \"Teaching sexual abuse prevention in school is not necessary. It will make children curious about sex\"  \\\n",
       "0                                              Agree                                                       \n",
       "1                                           Disagree                                                       \n",
       "2                                           Disagree                                                       \n",
       "3                                           Disagree                                                       \n",
       "4                                           Disagree                                                       \n",
       "5                                              Agree                                                       \n",
       "6                                              Agree                                                       \n",
       "7                                           Disagree                                                       \n",
       "8                                           Disagree                                                       \n",
       "9                                              Agree                                                       \n",
       "\n",
       "  Do you know what child grooming is?  \\\n",
       "0                                  No   \n",
       "1                                  No   \n",
       "2                                  No   \n",
       "3                                  No   \n",
       "4                                 Yes   \n",
       "5                                 Yes   \n",
       "6                                 Yes   \n",
       "7                                 Yes   \n",
       "8                                 Yes   \n",
       "9                                 Yes   \n",
       "\n",
       "  Do you know what signs to look for to identify if your child has been abused?  \\\n",
       "0                                                 No                              \n",
       "1                                                 No                              \n",
       "2                                                 No                              \n",
       "3                                                 No                              \n",
       "4                                                Yes                              \n",
       "5                                                Yes                              \n",
       "6                                                 No                              \n",
       "7                                                Yes                              \n",
       "8                                                Yes                              \n",
       "9                                                Yes                              \n",
       "\n",
       "  Do you think children need post abuse counseling for recovering?  \\\n",
       "0                                                 No                 \n",
       "1                                                Yes                 \n",
       "2                                                Yes                 \n",
       "3                                                Yes                 \n",
       "4                                                Yes                 \n",
       "5                                                Yes                 \n",
       "6                                                Yes                 \n",
       "7                                                Yes                 \n",
       "8                                                 No                 \n",
       "9                                                Yes                 \n",
       "\n",
       "  Do you think you should take legal action against the abuser of your child?  \\\n",
       "0                                                Yes                            \n",
       "1                                                Yes                            \n",
       "2                                                Yes                            \n",
       "3                                                Yes                            \n",
       "4                                                Yes                            \n",
       "5                                                 No                            \n",
       "6                                                Yes                            \n",
       "7                                                 No                            \n",
       "8                                                Yes                            \n",
       "9                                                Yes                            \n",
       "\n",
       "  Knowledge Level  \n",
       "0        Beginner  \n",
       "1        Beginner  \n",
       "2        Beginner  \n",
       "3        Beginner  \n",
       "4    Intermediate  \n",
       "5    Intermediate  \n",
       "6    Intermediate  \n",
       "7    Intermediate  \n",
       "8    Intermediate  \n",
       "9    Intermediate  "
      ]
     },
     "execution_count": 4,
     "metadata": {},
     "output_type": "execute_result"
    }
   ],
   "source": [
    "data.head(10)"
   ]
  },
  {
   "cell_type": "code",
   "execution_count": 5,
   "id": "aa886919",
   "metadata": {
    "execution": {
     "iopub.execute_input": "2022-11-27T22:25:56.851316Z",
     "iopub.status.busy": "2022-11-27T22:25:56.850780Z",
     "iopub.status.idle": "2022-11-27T22:25:56.857860Z",
     "shell.execute_reply": "2022-11-27T22:25:56.856485Z"
    },
    "papermill": {
     "duration": 0.024509,
     "end_time": "2022-11-27T22:25:56.860380",
     "exception": false,
     "start_time": "2022-11-27T22:25:56.835871",
     "status": "completed"
    },
    "tags": []
   },
   "outputs": [
    {
     "name": "stdout",
     "output_type": "stream",
     "text": [
      "column 1 is : \"Children are safe among family members such as grandparents, uncles, aunts, cousins\"\n",
      "column 2 is : \"Children are mainly abused by strangers in our society\"\n",
      "column 3 is : Male children dont need sexual abuse prevention knowledge\n",
      "column 4 is : \"Teaching sexual abuse prevention in school is not necessary. It will make children curious about sex\"\n",
      "column 5 is : Do you know what child grooming is?\n",
      "column 6 is : Do you know what signs to look for to identify if your child has been abused?\n",
      "column 7 is : Do you think children need post abuse counseling for recovering?\n",
      "column 8 is : Do you think you should take legal action against the abuser of your child?\n",
      "column 9 is : Knowledge Level\n"
     ]
    }
   ],
   "source": [
    "x=1\n",
    "for col in data.columns:\n",
    "    print(f'column {x} is :',col)\n",
    "    x+=1"
   ]
  },
  {
   "cell_type": "markdown",
   "id": "aac3cdd1",
   "metadata": {
    "papermill": {
     "duration": 0.01256,
     "end_time": "2022-11-27T22:25:56.886349",
     "exception": false,
     "start_time": "2022-11-27T22:25:56.873789",
     "status": "completed"
    },
    "tags": []
   },
   "source": [
    "# Data info"
   ]
  },
  {
   "cell_type": "code",
   "execution_count": 6,
   "id": "c020c0ee",
   "metadata": {
    "execution": {
     "iopub.execute_input": "2022-11-27T22:25:56.914724Z",
     "iopub.status.busy": "2022-11-27T22:25:56.914200Z",
     "iopub.status.idle": "2022-11-27T22:25:56.943294Z",
     "shell.execute_reply": "2022-11-27T22:25:56.941414Z"
    },
    "papermill": {
     "duration": 0.046244,
     "end_time": "2022-11-27T22:25:56.945631",
     "exception": false,
     "start_time": "2022-11-27T22:25:56.899387",
     "status": "completed"
    },
    "tags": []
   },
   "outputs": [
    {
     "name": "stdout",
     "output_type": "stream",
     "text": [
      "<class 'pandas.core.frame.DataFrame'>\n",
      "RangeIndex: 3002 entries, 0 to 3001\n",
      "Data columns (total 9 columns):\n",
      " #   Column                                                                                                  Non-Null Count  Dtype \n",
      "---  ------                                                                                                  --------------  ----- \n",
      " 0   \"Children are safe among family members such as grandparents, uncles, aunts, cousins\"                   3002 non-null   object\n",
      " 1   \"Children are mainly abused by strangers in our society\"                                                3002 non-null   object\n",
      " 2   Male children dont need sexual abuse prevention knowledge                                               3002 non-null   object\n",
      " 3   \"Teaching sexual abuse prevention in school is not necessary. It will make children curious about sex\"  3002 non-null   object\n",
      " 4   Do you know what child grooming is?                                                                     3002 non-null   object\n",
      " 5   Do you know what signs to look for to identify if your child has been abused?                           3002 non-null   object\n",
      " 6   Do you think children need post abuse counseling for recovering?                                        3002 non-null   object\n",
      " 7   Do you think you should take legal action against the abuser of your child?                             3002 non-null   object\n",
      " 8   Knowledge Level                                                                                         3002 non-null   object\n",
      "dtypes: object(9)\n",
      "memory usage: 211.2+ KB\n"
     ]
    }
   ],
   "source": [
    "data.info()"
   ]
  },
  {
   "cell_type": "markdown",
   "id": "3250f968",
   "metadata": {
    "papermill": {
     "duration": 0.01259,
     "end_time": "2022-11-27T22:25:56.971601",
     "exception": false,
     "start_time": "2022-11-27T22:25:56.959011",
     "status": "completed"
    },
    "tags": []
   },
   "source": [
    "# Show Data contain isnull"
   ]
  },
  {
   "cell_type": "code",
   "execution_count": 7,
   "id": "23b2885b",
   "metadata": {
    "execution": {
     "iopub.execute_input": "2022-11-27T22:25:57.000907Z",
     "iopub.status.busy": "2022-11-27T22:25:57.000387Z",
     "iopub.status.idle": "2022-11-27T22:25:57.014512Z",
     "shell.execute_reply": "2022-11-27T22:25:57.013215Z"
    },
    "papermill": {
     "duration": 0.032294,
     "end_time": "2022-11-27T22:25:57.017005",
     "exception": false,
     "start_time": "2022-11-27T22:25:56.984711",
     "status": "completed"
    },
    "tags": []
   },
   "outputs": [
    {
     "data": {
      "text/plain": [
       "\"Children are safe among family members such as grandparents, uncles, aunts, cousins\"                     0\n",
       "\"Children are mainly abused by strangers in our society\"                                                  0\n",
       "Male children dont need sexual abuse prevention knowledge                                                 0\n",
       "\"Teaching sexual abuse prevention in school is not necessary. It will make children curious about sex\"    0\n",
       "Do you know what child grooming is?                                                                       0\n",
       "Do you know what signs to look for to identify if your child has been abused?                             0\n",
       "Do you think children need post abuse counseling for recovering?                                          0\n",
       "Do you think you should take legal action against the abuser of your child?                               0\n",
       "Knowledge Level                                                                                           0\n",
       "dtype: int64"
      ]
     },
     "execution_count": 7,
     "metadata": {},
     "output_type": "execute_result"
    }
   ],
   "source": [
    "data.isnull().sum()"
   ]
  },
  {
   "cell_type": "markdown",
   "id": "a106881b",
   "metadata": {
    "papermill": {
     "duration": 0.012842,
     "end_time": "2022-11-27T22:25:57.043274",
     "exception": false,
     "start_time": "2022-11-27T22:25:57.030432",
     "status": "completed"
    },
    "tags": []
   },
   "source": [
    "# Show data contain duplicated "
   ]
  },
  {
   "cell_type": "code",
   "execution_count": 8,
   "id": "941cb25e",
   "metadata": {
    "execution": {
     "iopub.execute_input": "2022-11-27T22:25:57.072470Z",
     "iopub.status.busy": "2022-11-27T22:25:57.071495Z",
     "iopub.status.idle": "2022-11-27T22:25:57.084341Z",
     "shell.execute_reply": "2022-11-27T22:25:57.083131Z"
    },
    "papermill": {
     "duration": 0.030126,
     "end_time": "2022-11-27T22:25:57.086810",
     "exception": false,
     "start_time": "2022-11-27T22:25:57.056684",
     "status": "completed"
    },
    "tags": []
   },
   "outputs": [
    {
     "data": {
      "text/plain": [
       "2755"
      ]
     },
     "execution_count": 8,
     "metadata": {},
     "output_type": "execute_result"
    }
   ],
   "source": [
    "data.duplicated().sum()"
   ]
  },
  {
   "cell_type": "markdown",
   "id": "cbe7fff3",
   "metadata": {
    "papermill": {
     "duration": 0.013173,
     "end_time": "2022-11-27T22:25:57.113384",
     "exception": false,
     "start_time": "2022-11-27T22:25:57.100211",
     "status": "completed"
    },
    "tags": []
   },
   "source": [
    "# Data corr"
   ]
  },
  {
   "cell_type": "code",
   "execution_count": 9,
   "id": "997baedd",
   "metadata": {
    "execution": {
     "iopub.execute_input": "2022-11-27T22:25:57.142242Z",
     "iopub.status.busy": "2022-11-27T22:25:57.141708Z",
     "iopub.status.idle": "2022-11-27T22:25:57.153832Z",
     "shell.execute_reply": "2022-11-27T22:25:57.152578Z"
    },
    "papermill": {
     "duration": 0.029922,
     "end_time": "2022-11-27T22:25:57.156631",
     "exception": false,
     "start_time": "2022-11-27T22:25:57.126709",
     "status": "completed"
    },
    "tags": []
   },
   "outputs": [
    {
     "data": {
      "text/html": [
       "<div>\n",
       "<style scoped>\n",
       "    .dataframe tbody tr th:only-of-type {\n",
       "        vertical-align: middle;\n",
       "    }\n",
       "\n",
       "    .dataframe tbody tr th {\n",
       "        vertical-align: top;\n",
       "    }\n",
       "\n",
       "    .dataframe thead th {\n",
       "        text-align: right;\n",
       "    }\n",
       "</style>\n",
       "<table border=\"1\" class=\"dataframe\">\n",
       "  <thead>\n",
       "    <tr style=\"text-align: right;\">\n",
       "      <th></th>\n",
       "    </tr>\n",
       "  </thead>\n",
       "  <tbody>\n",
       "  </tbody>\n",
       "</table>\n",
       "</div>"
      ],
      "text/plain": [
       "Empty DataFrame\n",
       "Columns: []\n",
       "Index: []"
      ]
     },
     "execution_count": 9,
     "metadata": {},
     "output_type": "execute_result"
    }
   ],
   "source": [
    "data.corr()"
   ]
  },
  {
   "cell_type": "markdown",
   "id": "7257d374",
   "metadata": {
    "papermill": {
     "duration": 0.01312,
     "end_time": "2022-11-27T22:25:57.183396",
     "exception": false,
     "start_time": "2022-11-27T22:25:57.170276",
     "status": "completed"
    },
    "tags": []
   },
   "source": [
    "# Show input X and output y"
   ]
  },
  {
   "cell_type": "code",
   "execution_count": 10,
   "id": "ab6af30c",
   "metadata": {
    "execution": {
     "iopub.execute_input": "2022-11-27T22:25:57.212733Z",
     "iopub.status.busy": "2022-11-27T22:25:57.212257Z",
     "iopub.status.idle": "2022-11-27T22:25:57.226383Z",
     "shell.execute_reply": "2022-11-27T22:25:57.225162Z"
    },
    "papermill": {
     "duration": 0.03206,
     "end_time": "2022-11-27T22:25:57.228982",
     "exception": false,
     "start_time": "2022-11-27T22:25:57.196922",
     "status": "completed"
    },
    "tags": []
   },
   "outputs": [
    {
     "data": {
      "text/plain": [
       "(  \"Children are safe among family members such as grandparents, uncles, aunts, cousins\"  \\\n",
       " 0                                              Agree                                      \n",
       " 1                                              Agree                                      \n",
       " 2                                           Disagree                                      \n",
       " 3                                              Agree                                      \n",
       " 4                                              Agree                                      \n",
       " \n",
       "   \"Children are mainly abused by strangers in our society\"  \\\n",
       " 0                                              Agree         \n",
       " 1                                              Agree         \n",
       " 2                                           Disagree         \n",
       " 3                                              Agree         \n",
       " 4                                           Disagree         \n",
       " \n",
       "   Male children dont need sexual abuse prevention knowledge  \\\n",
       " 0                                           Disagree          \n",
       " 1                                           Disagree          \n",
       " 2                                           Disagree          \n",
       " 3                                           Disagree          \n",
       " 4                                           Disagree          \n",
       " \n",
       "   \"Teaching sexual abuse prevention in school is not necessary. It will make children curious about sex\"  \\\n",
       " 0                                              Agree                                                       \n",
       " 1                                           Disagree                                                       \n",
       " 2                                           Disagree                                                       \n",
       " 3                                           Disagree                                                       \n",
       " 4                                           Disagree                                                       \n",
       " \n",
       "   Do you know what child grooming is?  \\\n",
       " 0                                  No   \n",
       " 1                                  No   \n",
       " 2                                  No   \n",
       " 3                                  No   \n",
       " 4                                 Yes   \n",
       " \n",
       "   Do you know what signs to look for to identify if your child has been abused?  \\\n",
       " 0                                                 No                              \n",
       " 1                                                 No                              \n",
       " 2                                                 No                              \n",
       " 3                                                 No                              \n",
       " 4                                                Yes                              \n",
       " \n",
       "   Do you think children need post abuse counseling for recovering?  \\\n",
       " 0                                                 No                 \n",
       " 1                                                Yes                 \n",
       " 2                                                Yes                 \n",
       " 3                                                Yes                 \n",
       " 4                                                Yes                 \n",
       " \n",
       "   Do you think you should take legal action against the abuser of your child?  \n",
       " 0                                                Yes                           \n",
       " 1                                                Yes                           \n",
       " 2                                                Yes                           \n",
       " 3                                                Yes                           \n",
       " 4                                                Yes                           ,\n",
       " 0        Beginner\n",
       " 1        Beginner\n",
       " 2        Beginner\n",
       " 3        Beginner\n",
       " 4    Intermediate\n",
       " Name: Knowledge Level, dtype: object)"
      ]
     },
     "execution_count": 10,
     "metadata": {},
     "output_type": "execute_result"
    }
   ],
   "source": [
    "X=data.iloc[:,:-1]\n",
    "y=data.iloc[:,-1]\n",
    "X[:5],y[:5]"
   ]
  },
  {
   "cell_type": "markdown",
   "id": "70537dc5",
   "metadata": {
    "papermill": {
     "duration": 0.01331,
     "end_time": "2022-11-27T22:25:57.256647",
     "exception": false,
     "start_time": "2022-11-27T22:25:57.243337",
     "status": "completed"
    },
    "tags": []
   },
   "source": [
    "# transform string X data "
   ]
  },
  {
   "cell_type": "code",
   "execution_count": 11,
   "id": "9a6ad27b",
   "metadata": {
    "execution": {
     "iopub.execute_input": "2022-11-27T22:25:57.287489Z",
     "iopub.status.busy": "2022-11-27T22:25:57.285884Z",
     "iopub.status.idle": "2022-11-27T22:25:57.319386Z",
     "shell.execute_reply": "2022-11-27T22:25:57.318152Z"
    },
    "papermill": {
     "duration": 0.051595,
     "end_time": "2022-11-27T22:25:57.321997",
     "exception": false,
     "start_time": "2022-11-27T22:25:57.270402",
     "status": "completed"
    },
    "tags": []
   },
   "outputs": [
    {
     "name": "stderr",
     "output_type": "stream",
     "text": [
      "/opt/conda/lib/python3.7/site-packages/ipykernel_launcher.py:3: SettingWithCopyWarning: \n",
      "A value is trying to be set on a copy of a slice from a DataFrame.\n",
      "Try using .loc[row_indexer,col_indexer] = value instead\n",
      "\n",
      "See the caveats in the documentation: https://pandas.pydata.org/pandas-docs/stable/user_guide/indexing.html#returning-a-view-versus-a-copy\n",
      "  This is separate from the ipykernel package so we can avoid doing imports until\n"
     ]
    },
    {
     "data": {
      "text/html": [
       "<div>\n",
       "<style scoped>\n",
       "    .dataframe tbody tr th:only-of-type {\n",
       "        vertical-align: middle;\n",
       "    }\n",
       "\n",
       "    .dataframe tbody tr th {\n",
       "        vertical-align: top;\n",
       "    }\n",
       "\n",
       "    .dataframe thead th {\n",
       "        text-align: right;\n",
       "    }\n",
       "</style>\n",
       "<table border=\"1\" class=\"dataframe\">\n",
       "  <thead>\n",
       "    <tr style=\"text-align: right;\">\n",
       "      <th></th>\n",
       "      <th>\"Children are safe among family members such as grandparents, uncles, aunts, cousins\"</th>\n",
       "      <th>\"Children are mainly abused by strangers in our society\"</th>\n",
       "      <th>Male children dont need sexual abuse prevention knowledge</th>\n",
       "      <th>\"Teaching sexual abuse prevention in school is not necessary. It will make children curious about sex\"</th>\n",
       "      <th>Do you know what child grooming is?</th>\n",
       "      <th>Do you know what signs to look for to identify if your child has been abused?</th>\n",
       "      <th>Do you think children need post abuse counseling for recovering?</th>\n",
       "      <th>Do you think you should take legal action against the abuser of your child?</th>\n",
       "    </tr>\n",
       "  </thead>\n",
       "  <tbody>\n",
       "    <tr>\n",
       "      <th>0</th>\n",
       "      <td>0</td>\n",
       "      <td>0</td>\n",
       "      <td>1</td>\n",
       "      <td>0</td>\n",
       "      <td>0</td>\n",
       "      <td>0</td>\n",
       "      <td>0</td>\n",
       "      <td>1</td>\n",
       "    </tr>\n",
       "    <tr>\n",
       "      <th>1</th>\n",
       "      <td>0</td>\n",
       "      <td>0</td>\n",
       "      <td>1</td>\n",
       "      <td>1</td>\n",
       "      <td>0</td>\n",
       "      <td>0</td>\n",
       "      <td>1</td>\n",
       "      <td>1</td>\n",
       "    </tr>\n",
       "    <tr>\n",
       "      <th>2</th>\n",
       "      <td>1</td>\n",
       "      <td>1</td>\n",
       "      <td>1</td>\n",
       "      <td>1</td>\n",
       "      <td>0</td>\n",
       "      <td>0</td>\n",
       "      <td>1</td>\n",
       "      <td>1</td>\n",
       "    </tr>\n",
       "    <tr>\n",
       "      <th>3</th>\n",
       "      <td>0</td>\n",
       "      <td>0</td>\n",
       "      <td>1</td>\n",
       "      <td>1</td>\n",
       "      <td>0</td>\n",
       "      <td>0</td>\n",
       "      <td>1</td>\n",
       "      <td>1</td>\n",
       "    </tr>\n",
       "    <tr>\n",
       "      <th>4</th>\n",
       "      <td>0</td>\n",
       "      <td>1</td>\n",
       "      <td>1</td>\n",
       "      <td>1</td>\n",
       "      <td>1</td>\n",
       "      <td>1</td>\n",
       "      <td>1</td>\n",
       "      <td>1</td>\n",
       "    </tr>\n",
       "    <tr>\n",
       "      <th>...</th>\n",
       "      <td>...</td>\n",
       "      <td>...</td>\n",
       "      <td>...</td>\n",
       "      <td>...</td>\n",
       "      <td>...</td>\n",
       "      <td>...</td>\n",
       "      <td>...</td>\n",
       "      <td>...</td>\n",
       "    </tr>\n",
       "    <tr>\n",
       "      <th>2997</th>\n",
       "      <td>0</td>\n",
       "      <td>0</td>\n",
       "      <td>1</td>\n",
       "      <td>1</td>\n",
       "      <td>0</td>\n",
       "      <td>0</td>\n",
       "      <td>1</td>\n",
       "      <td>1</td>\n",
       "    </tr>\n",
       "    <tr>\n",
       "      <th>2998</th>\n",
       "      <td>0</td>\n",
       "      <td>0</td>\n",
       "      <td>1</td>\n",
       "      <td>1</td>\n",
       "      <td>0</td>\n",
       "      <td>1</td>\n",
       "      <td>1</td>\n",
       "      <td>0</td>\n",
       "    </tr>\n",
       "    <tr>\n",
       "      <th>2999</th>\n",
       "      <td>0</td>\n",
       "      <td>0</td>\n",
       "      <td>0</td>\n",
       "      <td>0</td>\n",
       "      <td>0</td>\n",
       "      <td>0</td>\n",
       "      <td>0</td>\n",
       "      <td>0</td>\n",
       "    </tr>\n",
       "    <tr>\n",
       "      <th>3000</th>\n",
       "      <td>1</td>\n",
       "      <td>0</td>\n",
       "      <td>0</td>\n",
       "      <td>0</td>\n",
       "      <td>1</td>\n",
       "      <td>1</td>\n",
       "      <td>1</td>\n",
       "      <td>1</td>\n",
       "    </tr>\n",
       "    <tr>\n",
       "      <th>3001</th>\n",
       "      <td>1</td>\n",
       "      <td>1</td>\n",
       "      <td>0</td>\n",
       "      <td>1</td>\n",
       "      <td>0</td>\n",
       "      <td>0</td>\n",
       "      <td>1</td>\n",
       "      <td>0</td>\n",
       "    </tr>\n",
       "  </tbody>\n",
       "</table>\n",
       "<p>3002 rows × 8 columns</p>\n",
       "</div>"
      ],
      "text/plain": [
       "      \"Children are safe among family members such as grandparents, uncles, aunts, cousins\"  \\\n",
       "0                                                     0                                       \n",
       "1                                                     0                                       \n",
       "2                                                     1                                       \n",
       "3                                                     0                                       \n",
       "4                                                     0                                       \n",
       "...                                                 ...                                       \n",
       "2997                                                  0                                       \n",
       "2998                                                  0                                       \n",
       "2999                                                  0                                       \n",
       "3000                                                  1                                       \n",
       "3001                                                  1                                       \n",
       "\n",
       "      \"Children are mainly abused by strangers in our society\"  \\\n",
       "0                                                     0          \n",
       "1                                                     0          \n",
       "2                                                     1          \n",
       "3                                                     0          \n",
       "4                                                     1          \n",
       "...                                                 ...          \n",
       "2997                                                  0          \n",
       "2998                                                  0          \n",
       "2999                                                  0          \n",
       "3000                                                  0          \n",
       "3001                                                  1          \n",
       "\n",
       "      Male children dont need sexual abuse prevention knowledge  \\\n",
       "0                                                     1           \n",
       "1                                                     1           \n",
       "2                                                     1           \n",
       "3                                                     1           \n",
       "4                                                     1           \n",
       "...                                                 ...           \n",
       "2997                                                  1           \n",
       "2998                                                  1           \n",
       "2999                                                  0           \n",
       "3000                                                  0           \n",
       "3001                                                  0           \n",
       "\n",
       "      \"Teaching sexual abuse prevention in school is not necessary. It will make children curious about sex\"  \\\n",
       "0                                                     0                                                        \n",
       "1                                                     1                                                        \n",
       "2                                                     1                                                        \n",
       "3                                                     1                                                        \n",
       "4                                                     1                                                        \n",
       "...                                                 ...                                                        \n",
       "2997                                                  1                                                        \n",
       "2998                                                  1                                                        \n",
       "2999                                                  0                                                        \n",
       "3000                                                  0                                                        \n",
       "3001                                                  1                                                        \n",
       "\n",
       "      Do you know what child grooming is?  \\\n",
       "0                                       0   \n",
       "1                                       0   \n",
       "2                                       0   \n",
       "3                                       0   \n",
       "4                                       1   \n",
       "...                                   ...   \n",
       "2997                                    0   \n",
       "2998                                    0   \n",
       "2999                                    0   \n",
       "3000                                    1   \n",
       "3001                                    0   \n",
       "\n",
       "      Do you know what signs to look for to identify if your child has been abused?  \\\n",
       "0                                                     0                               \n",
       "1                                                     0                               \n",
       "2                                                     0                               \n",
       "3                                                     0                               \n",
       "4                                                     1                               \n",
       "...                                                 ...                               \n",
       "2997                                                  0                               \n",
       "2998                                                  1                               \n",
       "2999                                                  0                               \n",
       "3000                                                  1                               \n",
       "3001                                                  0                               \n",
       "\n",
       "      Do you think children need post abuse counseling for recovering?  \\\n",
       "0                                                     0                  \n",
       "1                                                     1                  \n",
       "2                                                     1                  \n",
       "3                                                     1                  \n",
       "4                                                     1                  \n",
       "...                                                 ...                  \n",
       "2997                                                  1                  \n",
       "2998                                                  1                  \n",
       "2999                                                  0                  \n",
       "3000                                                  1                  \n",
       "3001                                                  1                  \n",
       "\n",
       "      Do you think you should take legal action against the abuser of your child?  \n",
       "0                                                     1                            \n",
       "1                                                     1                            \n",
       "2                                                     1                            \n",
       "3                                                     1                            \n",
       "4                                                     1                            \n",
       "...                                                 ...                            \n",
       "2997                                                  1                            \n",
       "2998                                                  0                            \n",
       "2999                                                  0                            \n",
       "3000                                                  1                            \n",
       "3001                                                  0                            \n",
       "\n",
       "[3002 rows x 8 columns]"
      ]
     },
     "execution_count": 11,
     "metadata": {},
     "output_type": "execute_result"
    }
   ],
   "source": [
    "label = LabelEncoder()\n",
    "for col in X.columns:\n",
    "    X[col]=label.fit_transform(X[col])\n",
    "X    "
   ]
  },
  {
   "cell_type": "markdown",
   "id": "317cb108",
   "metadata": {
    "papermill": {
     "duration": 0.014888,
     "end_time": "2022-11-27T22:25:57.351800",
     "exception": false,
     "start_time": "2022-11-27T22:25:57.336912",
     "status": "completed"
    },
    "tags": []
   },
   "source": [
    "# transform string y data"
   ]
  },
  {
   "cell_type": "code",
   "execution_count": 12,
   "id": "fbe61152",
   "metadata": {
    "execution": {
     "iopub.execute_input": "2022-11-27T22:25:57.383733Z",
     "iopub.status.busy": "2022-11-27T22:25:57.383237Z",
     "iopub.status.idle": "2022-11-27T22:25:57.395850Z",
     "shell.execute_reply": "2022-11-27T22:25:57.394438Z"
    },
    "papermill": {
     "duration": 0.031851,
     "end_time": "2022-11-27T22:25:57.398787",
     "exception": false,
     "start_time": "2022-11-27T22:25:57.366936",
     "status": "completed"
    },
    "tags": []
   },
   "outputs": [
    {
     "data": {
      "text/plain": [
       "array([0, 0, 0, 0, 1, 1, 1, 1, 1, 1, 1, 1, 1, 1, 1, 1, 1, 1, 1, 1, 1, 1,\n",
       "       1, 1, 1, 1, 1, 1, 1, 1, 1, 1, 1, 1, 1, 1, 1, 1, 1, 1, 1, 1, 1, 1,\n",
       "       1, 1, 1, 1, 1, 0, 0, 0, 0, 1, 0, 0, 0, 0, 0, 0, 0, 0, 1, 1, 1, 1,\n",
       "       1, 1, 1, 1, 1, 1, 1, 1, 1, 1, 1, 1, 1, 1, 1, 1, 1, 1, 1, 1, 1, 0,\n",
       "       0, 1, 1, 1, 1, 1, 1, 1, 1, 1, 0, 0, 1, 0, 0, 0, 0, 0, 0, 0, 0, 0,\n",
       "       0, 0, 0, 1, 1, 1, 1, 1, 1, 1, 1, 1, 1, 1, 1, 1, 1, 1, 1, 1, 1, 0,\n",
       "       1, 1, 1, 1, 1, 1, 1, 1, 1, 0, 0, 0, 0, 0, 0, 0, 0, 0, 1, 0, 1, 1,\n",
       "       0, 0, 0, 0, 0, 1, 1, 1, 1, 1, 1, 1, 1, 1, 0, 0, 0, 0, 1, 1, 1, 1,\n",
       "       1, 1, 1, 1, 1, 0, 0, 0, 0, 0, 0, 0, 0, 0, 1, 0, 0, 0, 0, 0, 0, 1,\n",
       "       0, 1, 0, 1, 1, 0, 0, 0, 1, 1, 1, 1, 1, 1, 1, 1, 1, 1, 0, 0, 0, 1,\n",
       "       0, 0, 1, 1, 0, 0, 0, 1, 1, 1, 1, 1, 1, 1, 1, 1, 1, 0, 0, 1, 0, 0,\n",
       "       0, 0, 0, 1, 0, 0, 0, 1, 0, 1, 0, 0, 0, 1, 0, 0, 0, 1, 1, 1, 0, 0,\n",
       "       0, 0, 1, 0, 1, 1, 0, 1, 0, 0, 0, 0, 0, 0, 0, 0, 1, 0, 1, 0, 0, 0,\n",
       "       0, 0, 1, 1, 0, 0, 0, 0, 1, 1, 1, 1, 1, 1, 1, 1, 1, 0, 0, 1, 0, 0,\n",
       "       0, 0, 0, 0, 0, 1, 1, 1, 1, 1, 0, 1, 0, 0, 0, 0, 0, 1, 0, 0, 0, 0,\n",
       "       1, 0, 1, 0, 1, 1, 0, 1, 0, 0, 1, 0, 0, 1, 0, 0, 0, 0, 0, 0, 1, 0,\n",
       "       0, 0, 1, 1, 1, 1, 1, 1, 1, 1, 1, 0, 0, 0, 0, 0, 1, 0, 0, 0, 0, 1,\n",
       "       1, 1, 1, 1, 1, 1, 1, 1, 0, 1, 1, 1, 1, 1, 1, 1, 1, 1, 0, 0, 0, 0,\n",
       "       0, 0, 0, 0, 0, 0, 0, 0, 0, 0, 1, 1, 1, 1, 1, 1, 1, 1, 1, 0, 0, 0,\n",
       "       0, 1, 1, 1, 1, 1, 1, 1, 1, 1, 0, 0, 0, 0, 0, 0, 0, 0, 0, 0, 0, 0,\n",
       "       0, 0, 0, 0, 0, 1, 1, 0, 0, 0, 0, 1, 1, 1, 1, 1, 1, 1, 1, 1, 0, 0,\n",
       "       0, 0, 1, 0, 1, 0, 1, 0, 0, 1, 1, 1, 1, 1, 0, 0, 1, 1, 0, 0, 0, 0,\n",
       "       1, 0, 1, 0, 0, 0, 1, 1, 0, 1, 1, 0, 0, 0, 1, 0, 0, 1, 1, 1, 1, 1,\n",
       "       1, 1, 1, 1, 1, 1, 1, 1, 1, 1, 1, 1, 1, 0, 0, 0, 1, 0, 0, 1, 0, 0,\n",
       "       0, 0, 0, 1, 0, 0, 1, 1, 1, 1, 0, 1, 1, 1, 1, 1, 1, 1, 1, 1, 0, 0,\n",
       "       1, 1, 1, 1, 1, 1, 1, 1, 1, 0, 1, 0, 0, 0, 0, 1, 1, 0, 0, 0, 0, 0,\n",
       "       0, 1, 0, 0, 0, 1, 1, 1, 1, 1, 1, 1, 1, 1, 0, 1, 1, 0, 0, 0, 0, 0,\n",
       "       0, 0, 0, 1, 1, 1, 1, 0, 0, 1, 0, 0, 0, 0, 0, 0, 0, 0, 0, 0, 0, 0,\n",
       "       0, 0, 0, 0, 1, 0, 1, 0, 0, 1, 0, 0, 1, 0, 0, 1, 0, 0, 1, 0, 0, 0,\n",
       "       1, 1, 1, 1, 1, 1, 0, 0, 0, 0, 0, 0, 0, 0, 0, 0, 0, 0, 0, 0, 1, 1,\n",
       "       1, 1, 1, 1, 1, 1, 0, 0, 0, 0, 1, 0, 0, 0, 0, 0, 0, 1, 1, 0, 1, 0,\n",
       "       0, 0, 0, 0, 0, 1, 1, 1, 1, 1, 1, 1, 1, 1, 1, 0, 0, 0, 0, 0, 1, 1,\n",
       "       1, 1, 1, 1, 1, 1, 1, 1, 1, 0, 0, 0, 1, 1, 1, 1, 1, 1, 1, 1, 1, 1,\n",
       "       0, 0, 1, 1, 1, 1, 1, 1, 1, 1, 0, 0, 0, 1, 0, 0, 1, 1, 1, 1, 1, 1,\n",
       "       1, 1, 1, 0, 0, 0, 0, 1, 1, 1, 1, 1, 1, 1, 1, 1, 0, 1, 0, 0, 0, 0,\n",
       "       0, 0, 0, 0, 0, 0, 0, 1, 0, 0, 0, 1, 0, 0, 0, 0, 1, 1, 1, 1, 1, 1,\n",
       "       1, 1, 1, 1, 0, 0, 0, 0, 0, 0, 0, 0, 0, 0, 1, 0, 0, 0, 0, 0, 1, 0,\n",
       "       0, 0, 0, 0, 0, 0, 0, 0, 0, 0, 0, 0, 0, 0, 1, 0, 0, 0, 0, 0, 0, 0,\n",
       "       0, 0, 0, 0, 1, 1, 1, 1, 1, 1, 1, 1, 1, 1, 0, 1, 0, 0, 0, 1, 0, 0,\n",
       "       0, 1, 0, 0, 0, 0, 0, 0, 1, 1, 1, 1, 1, 1, 1, 1, 1, 0, 0, 0, 1, 1,\n",
       "       1, 1, 1, 1, 1, 1, 1, 0, 0, 0, 0, 0, 0, 1, 1, 1, 1, 1, 1, 1, 1, 0,\n",
       "       0, 0, 0, 0, 0, 1, 1, 1, 1, 1, 1, 1, 1, 1, 0, 1, 0, 1, 1, 0, 0, 0,\n",
       "       0, 0, 0, 0, 1, 0, 0, 0, 0, 0, 0, 0, 0, 0, 0, 0, 1, 1, 1, 1, 1, 1,\n",
       "       1, 1, 1, 0, 0, 0, 1, 0, 0, 0, 0, 1, 1, 0, 0, 0, 0, 0, 1, 1, 0, 0,\n",
       "       0, 1, 0, 1, 0, 0, 0, 0, 0, 0, 0, 0, 0, 0, 0, 1, 0, 1, 0, 0, 0, 0,\n",
       "       0, 0, 0, 0, 0, 0, 0, 0, 1, 0])"
      ]
     },
     "execution_count": 12,
     "metadata": {},
     "output_type": "execute_result"
    }
   ],
   "source": [
    "y=label.fit_transform(y)\n",
    "y[:1000]"
   ]
  },
  {
   "cell_type": "markdown",
   "id": "1f20504a",
   "metadata": {
    "papermill": {
     "duration": 0.014694,
     "end_time": "2022-11-27T22:25:57.429202",
     "exception": false,
     "start_time": "2022-11-27T22:25:57.414508",
     "status": "completed"
    },
    "tags": []
   },
   "source": [
    "# Splitting data"
   ]
  },
  {
   "cell_type": "code",
   "execution_count": 13,
   "id": "e60af5bc",
   "metadata": {
    "execution": {
     "iopub.execute_input": "2022-11-27T22:25:57.460825Z",
     "iopub.status.busy": "2022-11-27T22:25:57.460355Z",
     "iopub.status.idle": "2022-11-27T22:25:57.470965Z",
     "shell.execute_reply": "2022-11-27T22:25:57.469687Z"
    },
    "papermill": {
     "duration": 0.029638,
     "end_time": "2022-11-27T22:25:57.473398",
     "exception": false,
     "start_time": "2022-11-27T22:25:57.443760",
     "status": "completed"
    },
    "tags": []
   },
   "outputs": [
    {
     "name": "stdout",
     "output_type": "stream",
     "text": [
      "X_train shape is  (2011, 8)\n",
      "X_test shape is  (991, 8)\n",
      "y_train shape is  (2011,)\n",
      "y_test shape is  (991,)\n"
     ]
    }
   ],
   "source": [
    "X_train, X_test, y_train, y_test = train_test_split(X, y, test_size=0.33, random_state=44, shuffle =True)\n",
    "print('X_train shape is ' , X_train.shape)\n",
    "print('X_test shape is ' , X_test.shape)\n",
    "print('y_train shape is ' , y_train.shape)\n",
    "print('y_test shape is ' , y_test.shape)"
   ]
  },
  {
   "cell_type": "markdown",
   "id": "2481a24d",
   "metadata": {
    "papermill": {
     "duration": 0.014598,
     "end_time": "2022-11-27T22:25:57.502793",
     "exception": false,
     "start_time": "2022-11-27T22:25:57.488195",
     "status": "completed"
    },
    "tags": []
   },
   "source": [
    "# Applying LogisticRegression Model "
   ]
  },
  {
   "cell_type": "code",
   "execution_count": 14,
   "id": "edfb1bde",
   "metadata": {
    "execution": {
     "iopub.execute_input": "2022-11-27T22:25:57.534939Z",
     "iopub.status.busy": "2022-11-27T22:25:57.534443Z",
     "iopub.status.idle": "2022-11-27T22:25:57.560999Z",
     "shell.execute_reply": "2022-11-27T22:25:57.559772Z"
    },
    "papermill": {
     "duration": 0.045995,
     "end_time": "2022-11-27T22:25:57.563677",
     "exception": false,
     "start_time": "2022-11-27T22:25:57.517682",
     "status": "completed"
    },
    "tags": []
   },
   "outputs": [
    {
     "data": {
      "text/plain": [
       "LogisticRegression(random_state=33, solver='sag')"
      ]
     },
     "execution_count": 14,
     "metadata": {},
     "output_type": "execute_result"
    }
   ],
   "source": [
    "LogisticRegressionModel = LogisticRegression(penalty='l2',solver='sag',C=1.0,random_state=33)\n",
    "LogisticRegressionModel.fit(X_train, y_train)"
   ]
  },
  {
   "cell_type": "markdown",
   "id": "e9604edc",
   "metadata": {
    "papermill": {
     "duration": 0.014667,
     "end_time": "2022-11-27T22:25:57.594003",
     "exception": false,
     "start_time": "2022-11-27T22:25:57.579336",
     "status": "completed"
    },
    "tags": []
   },
   "source": [
    "# Calculating Details"
   ]
  },
  {
   "cell_type": "code",
   "execution_count": 15,
   "id": "654c6d82",
   "metadata": {
    "execution": {
     "iopub.execute_input": "2022-11-27T22:25:57.625979Z",
     "iopub.status.busy": "2022-11-27T22:25:57.625465Z",
     "iopub.status.idle": "2022-11-27T22:25:57.645940Z",
     "shell.execute_reply": "2022-11-27T22:25:57.644297Z"
    },
    "papermill": {
     "duration": 0.043699,
     "end_time": "2022-11-27T22:25:57.652488",
     "exception": false,
     "start_time": "2022-11-27T22:25:57.608789",
     "status": "completed"
    },
    "tags": []
   },
   "outputs": [
    {
     "name": "stdout",
     "output_type": "stream",
     "text": [
      "LogisticRegressionModel Train Score is :  0.8189955246146196\n",
      "LogisticRegressionModel Test Score is :  0.8133198789101918\n",
      "LogisticRegressionModel Classes are :  [0 1]\n",
      "LogisticRegressionModel No. of iteratios is :  [30]\n"
     ]
    }
   ],
   "source": [
    "print('LogisticRegressionModel Train Score is : ' , LogisticRegressionModel.score(X_train, y_train))\n",
    "print('LogisticRegressionModel Test Score is : ' , LogisticRegressionModel.score(X_test, y_test))\n",
    "print('LogisticRegressionModel Classes are : ' , LogisticRegressionModel.classes_)\n",
    "print('LogisticRegressionModel No. of iteratios is : ' , LogisticRegressionModel.n_iter_)"
   ]
  },
  {
   "cell_type": "markdown",
   "id": "d8040c3d",
   "metadata": {
    "papermill": {
     "duration": 0.038898,
     "end_time": "2022-11-27T22:25:57.732065",
     "exception": false,
     "start_time": "2022-11-27T22:25:57.693167",
     "status": "completed"
    },
    "tags": []
   },
   "source": [
    "# Applying RandomForestClassifier Model "
   ]
  },
  {
   "cell_type": "code",
   "execution_count": 16,
   "id": "9a8b71a0",
   "metadata": {
    "execution": {
     "iopub.execute_input": "2022-11-27T22:25:57.778927Z",
     "iopub.status.busy": "2022-11-27T22:25:57.778451Z",
     "iopub.status.idle": "2022-11-27T22:25:57.993693Z",
     "shell.execute_reply": "2022-11-27T22:25:57.992452Z"
    },
    "papermill": {
     "duration": 0.23462,
     "end_time": "2022-11-27T22:25:57.996506",
     "exception": false,
     "start_time": "2022-11-27T22:25:57.761886",
     "status": "completed"
    },
    "tags": []
   },
   "outputs": [
    {
     "data": {
      "text/plain": [
       "RandomForestClassifier(max_depth=10, random_state=33)"
      ]
     },
     "execution_count": 16,
     "metadata": {},
     "output_type": "execute_result"
    }
   ],
   "source": [
    "RandomForestClassifierModel = RandomForestClassifier(criterion = 'gini',n_estimators=100,max_depth=10,random_state=33) #criterion can be also : entropy \n",
    "RandomForestClassifierModel.fit(X_train, y_train)"
   ]
  },
  {
   "cell_type": "markdown",
   "id": "f329213f",
   "metadata": {
    "papermill": {
     "duration": 0.014749,
     "end_time": "2022-11-27T22:25:58.027851",
     "exception": false,
     "start_time": "2022-11-27T22:25:58.013102",
     "status": "completed"
    },
    "tags": []
   },
   "source": [
    "# Calculating Details"
   ]
  },
  {
   "cell_type": "code",
   "execution_count": 17,
   "id": "36fc8d7f",
   "metadata": {
    "execution": {
     "iopub.execute_input": "2022-11-27T22:25:58.060501Z",
     "iopub.status.busy": "2022-11-27T22:25:58.059529Z",
     "iopub.status.idle": "2022-11-27T22:25:58.149115Z",
     "shell.execute_reply": "2022-11-27T22:25:58.147103Z"
    },
    "papermill": {
     "duration": 0.109577,
     "end_time": "2022-11-27T22:25:58.152295",
     "exception": false,
     "start_time": "2022-11-27T22:25:58.042718",
     "status": "completed"
    },
    "tags": []
   },
   "outputs": [
    {
     "name": "stdout",
     "output_type": "stream",
     "text": [
      "RandomForestClassifierModel Train Score is :  0.9328692192938837\n",
      "RandomForestClassifierModel Test Score is :  0.934409687184662\n",
      "RandomForestClassifierModel features importances are :  [0.09841938 0.10931409 0.09668324 0.09590333 0.18493696 0.29085712\n",
      " 0.07268744 0.05119844]\n"
     ]
    }
   ],
   "source": [
    "print('RandomForestClassifierModel Train Score is : ' , RandomForestClassifierModel.score(X_train, y_train))\n",
    "print('RandomForestClassifierModel Test Score is : ' , RandomForestClassifierModel.score(X_test, y_test))\n",
    "print('RandomForestClassifierModel features importances are : ' , RandomForestClassifierModel.feature_importances_)"
   ]
  },
  {
   "cell_type": "markdown",
   "id": "e1cb7ec2",
   "metadata": {
    "papermill": {
     "duration": 0.014578,
     "end_time": "2022-11-27T22:25:58.182161",
     "exception": false,
     "start_time": "2022-11-27T22:25:58.167583",
     "status": "completed"
    },
    "tags": []
   },
   "source": [
    "# Applying DecisionTreeClassifier Model "
   ]
  },
  {
   "cell_type": "code",
   "execution_count": 18,
   "id": "c71d9a0b",
   "metadata": {
    "execution": {
     "iopub.execute_input": "2022-11-27T22:25:58.214780Z",
     "iopub.status.busy": "2022-11-27T22:25:58.213420Z",
     "iopub.status.idle": "2022-11-27T22:25:58.225287Z",
     "shell.execute_reply": "2022-11-27T22:25:58.224324Z"
    },
    "papermill": {
     "duration": 0.030429,
     "end_time": "2022-11-27T22:25:58.227487",
     "exception": false,
     "start_time": "2022-11-27T22:25:58.197058",
     "status": "completed"
    },
    "tags": []
   },
   "outputs": [
    {
     "data": {
      "text/plain": [
       "DecisionTreeClassifier(max_depth=10, random_state=33)"
      ]
     },
     "execution_count": 18,
     "metadata": {},
     "output_type": "execute_result"
    }
   ],
   "source": [
    "DecisionTreeClassifierModel = DecisionTreeClassifier(criterion='gini',max_depth=10,random_state=33) #criterion can be entropy\n",
    "DecisionTreeClassifierModel.fit(X_train, y_train)"
   ]
  },
  {
   "cell_type": "markdown",
   "id": "a2cf7766",
   "metadata": {
    "papermill": {
     "duration": 0.014612,
     "end_time": "2022-11-27T22:25:58.257275",
     "exception": false,
     "start_time": "2022-11-27T22:25:58.242663",
     "status": "completed"
    },
    "tags": []
   },
   "source": [
    "# Calculating Details"
   ]
  },
  {
   "cell_type": "code",
   "execution_count": 19,
   "id": "fc5605eb",
   "metadata": {
    "execution": {
     "iopub.execute_input": "2022-11-27T22:25:58.289421Z",
     "iopub.status.busy": "2022-11-27T22:25:58.288589Z",
     "iopub.status.idle": "2022-11-27T22:25:58.303545Z",
     "shell.execute_reply": "2022-11-27T22:25:58.302093Z"
    },
    "papermill": {
     "duration": 0.034369,
     "end_time": "2022-11-27T22:25:58.306499",
     "exception": false,
     "start_time": "2022-11-27T22:25:58.272130",
     "status": "completed"
    },
    "tags": []
   },
   "outputs": [
    {
     "name": "stdout",
     "output_type": "stream",
     "text": [
      "DecisionTreeClassifierModel Train Score is :  0.9328692192938837\n",
      "DecisionTreeClassifierModel Test Score is :  0.9323915237134208\n",
      "DecisionTreeClassifierModel Classes are :  [0 1]\n",
      "DecisionTreeClassifierModel feature importances are :  [0.0661618  0.04064312 0.13939037 0.03180964 0.18828858 0.38790815\n",
      " 0.09968229 0.04611606]\n"
     ]
    }
   ],
   "source": [
    "print('DecisionTreeClassifierModel Train Score is : ' , DecisionTreeClassifierModel.score(X_train, y_train))\n",
    "print('DecisionTreeClassifierModel Test Score is : ' , DecisionTreeClassifierModel.score(X_test, y_test))\n",
    "print('DecisionTreeClassifierModel Classes are : ' , DecisionTreeClassifierModel.classes_)\n",
    "print('DecisionTreeClassifierModel feature importances are : ' , DecisionTreeClassifierModel.feature_importances_)"
   ]
  },
  {
   "cell_type": "markdown",
   "id": "dcae543d",
   "metadata": {
    "papermill": {
     "duration": 0.014765,
     "end_time": "2022-11-27T22:25:58.336408",
     "exception": false,
     "start_time": "2022-11-27T22:25:58.321643",
     "status": "completed"
    },
    "tags": []
   },
   "source": [
    "# Applying SVC Model "
   ]
  },
  {
   "cell_type": "code",
   "execution_count": 20,
   "id": "ca2e5501",
   "metadata": {
    "execution": {
     "iopub.execute_input": "2022-11-27T22:25:58.368348Z",
     "iopub.status.busy": "2022-11-27T22:25:58.367857Z",
     "iopub.status.idle": "2022-11-27T22:25:58.406547Z",
     "shell.execute_reply": "2022-11-27T22:25:58.404535Z"
    },
    "papermill": {
     "duration": 0.058021,
     "end_time": "2022-11-27T22:25:58.409413",
     "exception": false,
     "start_time": "2022-11-27T22:25:58.351392",
     "status": "completed"
    },
    "tags": []
   },
   "outputs": [
    {
     "name": "stderr",
     "output_type": "stream",
     "text": [
      "/opt/conda/lib/python3.7/site-packages/sklearn/svm/_base.py:289: ConvergenceWarning: Solver terminated early (max_iter=100).  Consider pre-processing your data with StandardScaler or MinMaxScaler.\n",
      "  ConvergenceWarning,\n"
     ]
    },
    {
     "data": {
      "text/plain": [
       "SVC(gamma='auto', max_iter=100)"
      ]
     },
     "execution_count": 20,
     "metadata": {},
     "output_type": "execute_result"
    }
   ],
   "source": [
    "SVCModel = SVC(kernel= 'rbf',# it can be also linear,poly,sigmoid,precomputed\n",
    "               max_iter=100,C=1.0,gamma='auto')\n",
    "SVCModel.fit(X_train, y_train)"
   ]
  },
  {
   "cell_type": "markdown",
   "id": "becacd55",
   "metadata": {
    "papermill": {
     "duration": 0.015198,
     "end_time": "2022-11-27T22:25:58.439916",
     "exception": false,
     "start_time": "2022-11-27T22:25:58.424718",
     "status": "completed"
    },
    "tags": []
   },
   "source": [
    "#   Calculating Details"
   ]
  },
  {
   "cell_type": "code",
   "execution_count": 21,
   "id": "4fe5a755",
   "metadata": {
    "execution": {
     "iopub.execute_input": "2022-11-27T22:25:58.472915Z",
     "iopub.status.busy": "2022-11-27T22:25:58.472337Z",
     "iopub.status.idle": "2022-11-27T22:25:58.520614Z",
     "shell.execute_reply": "2022-11-27T22:25:58.518974Z"
    },
    "papermill": {
     "duration": 0.068357,
     "end_time": "2022-11-27T22:25:58.523593",
     "exception": false,
     "start_time": "2022-11-27T22:25:58.455236",
     "status": "completed"
    },
    "tags": []
   },
   "outputs": [
    {
     "name": "stdout",
     "output_type": "stream",
     "text": [
      "SVCModel Train Score is :  0.7374440576827449\n",
      "SVCModel Test Score is :  0.7679112008072654\n"
     ]
    }
   ],
   "source": [
    "print('SVCModel Train Score is : ' , SVCModel.score(X_train, y_train))\n",
    "print('SVCModel Test Score is : ' , SVCModel.score(X_test, y_test))"
   ]
  },
  {
   "cell_type": "markdown",
   "id": "7a8bab98",
   "metadata": {
    "papermill": {
     "duration": 0.015355,
     "end_time": "2022-11-27T22:25:58.555023",
     "exception": false,
     "start_time": "2022-11-27T22:25:58.539668",
     "status": "completed"
    },
    "tags": []
   },
   "source": [
    "# DecisionTreeClassifierModel.feature_importances_"
   ]
  },
  {
   "cell_type": "code",
   "execution_count": 22,
   "id": "13703639",
   "metadata": {
    "execution": {
     "iopub.execute_input": "2022-11-27T22:25:58.587754Z",
     "iopub.status.busy": "2022-11-27T22:25:58.587270Z",
     "iopub.status.idle": "2022-11-27T22:25:58.837832Z",
     "shell.execute_reply": "2022-11-27T22:25:58.836329Z"
    },
    "papermill": {
     "duration": 0.270127,
     "end_time": "2022-11-27T22:25:58.840548",
     "exception": false,
     "start_time": "2022-11-27T22:25:58.570421",
     "status": "completed"
    },
    "tags": []
   },
   "outputs": [
    {
     "data": {
      "text/plain": [
       "<BarContainer object of 8 artists>"
      ]
     },
     "execution_count": 22,
     "metadata": {},
     "output_type": "execute_result"
    },
    {
     "data": {
      "image/png": "[encoded data removed]",
      "text/plain": [
       "<Figure size 432x288 with 1 Axes>"
      ]
     },
     "metadata": {
      "needs_background": "light"
     },
     "output_type": "display_data"
    }
   ],
   "source": [
    "X_bar=list(range(1,9))\n",
    "plt.bar(X_bar,DecisionTreeClassifierModel.feature_importances_)"
   ]
  },
  {
   "cell_type": "markdown",
   "id": "99191a4c",
   "metadata": {
    "papermill": {
     "duration": 0.0157,
     "end_time": "2022-11-27T22:25:58.872310",
     "exception": false,
     "start_time": "2022-11-27T22:25:58.856610",
     "status": "completed"
    },
    "tags": []
   },
   "source": [
    "# Calculating Prediction"
   ]
  },
  {
   "cell_type": "code",
   "execution_count": 23,
   "id": "1b9ffe09",
   "metadata": {
    "execution": {
     "iopub.execute_input": "2022-11-27T22:25:58.906563Z",
     "iopub.status.busy": "2022-11-27T22:25:58.905698Z",
     "iopub.status.idle": "2022-11-27T22:25:58.970063Z",
     "shell.execute_reply": "2022-11-27T22:25:58.968289Z"
    },
    "papermill": {
     "duration": 0.084969,
     "end_time": "2022-11-27T22:25:58.973094",
     "exception": false,
     "start_time": "2022-11-27T22:25:58.888125",
     "status": "completed"
    },
    "tags": []
   },
   "outputs": [
    {
     "name": "stdout",
     "output_type": "stream",
     "text": [
      "Predicted Value for RandomForestClassifierModel is :  [0 0 1 0 0 0 0 1 1 0]\n",
      "Prediction Probabilities Value for RandomForestClassifierModel is :  [[1.         0.        ]\n",
      " [0.65815201 0.34184799]\n",
      " [0.11693484 0.88306516]\n",
      " [0.86191605 0.13808395]\n",
      " [0.96       0.04      ]\n",
      " [1.         0.        ]\n",
      " [1.         0.        ]\n",
      " [0.02905625 0.97094375]\n",
      " [0.         1.        ]\n",
      " [1.         0.        ]]\n"
     ]
    }
   ],
   "source": [
    "y_pred = RandomForestClassifierModel.predict(X_test)\n",
    "y_pred_prob = RandomForestClassifierModel.predict_proba(X_test)\n",
    "print('Predicted Value for RandomForestClassifierModel is : ' , y_pred[:10])\n",
    "print('Prediction Probabilities Value for RandomForestClassifierModel is : ' , y_pred_prob[:10])"
   ]
  },
  {
   "cell_type": "markdown",
   "id": "d7ceab94",
   "metadata": {
    "papermill": {
     "duration": 0.015639,
     "end_time": "2022-11-27T22:25:59.004790",
     "exception": false,
     "start_time": "2022-11-27T22:25:58.989151",
     "status": "completed"
    },
    "tags": []
   },
   "source": [
    "# Calculating Confusion Matrix"
   ]
  },
  {
   "cell_type": "code",
   "execution_count": 24,
   "id": "21fd0ace",
   "metadata": {
    "execution": {
     "iopub.execute_input": "2022-11-27T22:25:59.039758Z",
     "iopub.status.busy": "2022-11-27T22:25:59.039246Z",
     "iopub.status.idle": "2022-11-27T22:25:59.265503Z",
     "shell.execute_reply": "2022-11-27T22:25:59.264540Z"
    },
    "papermill": {
     "duration": 0.246374,
     "end_time": "2022-11-27T22:25:59.268018",
     "exception": false,
     "start_time": "2022-11-27T22:25:59.021644",
     "status": "completed"
    },
    "tags": []
   },
   "outputs": [
    {
     "name": "stdout",
     "output_type": "stream",
     "text": [
      "Confusion Matrix is : \n",
      " [[525  39]\n",
      " [ 26 401]]\n"
     ]
    },
    {
     "data": {
      "image/png": "[encoded data removed]",
      "text/plain": [
       "<Figure size 432x288 with 2 Axes>"
      ]
     },
     "metadata": {
      "needs_background": "light"
     },
     "output_type": "display_data"
    }
   ],
   "source": [
    "CM = confusion_matrix(y_test, y_pred)\n",
    "print('Confusion Matrix is : \\n', CM)\n",
    "sns.heatmap(CM, center = True)\n",
    "plt.show()"
   ]
  },
  {
   "cell_type": "markdown",
   "id": "1e72bfce",
   "metadata": {
    "papermill": {
     "duration": 0.015862,
     "end_time": "2022-11-27T22:25:59.300235",
     "exception": false,
     "start_time": "2022-11-27T22:25:59.284373",
     "status": "completed"
    },
    "tags": []
   },
   "source": [
    "# Calculating Confusion Matrix"
   ]
  },
  {
   "cell_type": "code",
   "execution_count": 25,
   "id": "9d0fa072",
   "metadata": {
    "execution": {
     "iopub.execute_input": "2022-11-27T22:25:59.335761Z",
     "iopub.status.busy": "2022-11-27T22:25:59.334922Z",
     "iopub.status.idle": "2022-11-27T22:25:59.606619Z",
     "shell.execute_reply": "2022-11-27T22:25:59.605287Z"
    },
    "papermill": {
     "duration": 0.292721,
     "end_time": "2022-11-27T22:25:59.609326",
     "exception": false,
     "start_time": "2022-11-27T22:25:59.316605",
     "status": "completed"
    },
    "tags": []
   },
   "outputs": [
    {
     "name": "stdout",
     "output_type": "stream",
     "text": [
      "Confusion Matrix is : \n",
      " [[1058   89]\n",
      " [  46  818]]\n"
     ]
    },
    {
     "data": {
      "image/png": "[encoded data removed]",
      "text/plain": [
       "<Figure size 432x288 with 2 Axes>"
      ]
     },
     "metadata": {
      "needs_background": "light"
     },
     "output_type": "display_data"
    }
   ],
   "source": [
    "CM = confusion_matrix(y_train,RandomForestClassifierModel.predict(X_train))\n",
    "print('Confusion Matrix is : \\n', CM)\n",
    "sns.heatmap(CM, center = True)\n",
    "plt.show()"
   ]
  },
  {
   "cell_type": "markdown",
   "id": "53f9beb9",
   "metadata": {
    "papermill": {
     "duration": 0.016445,
     "end_time": "2022-11-27T22:25:59.642500",
     "exception": false,
     "start_time": "2022-11-27T22:25:59.626055",
     "status": "completed"
    },
    "tags": []
   },
   "source": [
    "# Calculating Accuracy Score : ((TP + TN) / float(TP + TN + FP + FN))"
   ]
  },
  {
   "cell_type": "code",
   "execution_count": 26,
   "id": "68fe7b11",
   "metadata": {
    "execution": {
     "iopub.execute_input": "2022-11-27T22:25:59.677890Z",
     "iopub.status.busy": "2022-11-27T22:25:59.677373Z",
     "iopub.status.idle": "2022-11-27T22:25:59.685698Z",
     "shell.execute_reply": "2022-11-27T22:25:59.684250Z"
    },
    "papermill": {
     "duration": 0.028903,
     "end_time": "2022-11-27T22:25:59.688280",
     "exception": false,
     "start_time": "2022-11-27T22:25:59.659377",
     "status": "completed"
    },
    "tags": []
   },
   "outputs": [
    {
     "name": "stdout",
     "output_type": "stream",
     "text": [
      "Accuracy Score is :  0.934409687184662\n"
     ]
    }
   ],
   "source": [
    "AccScore = accuracy_score(y_test, y_pred, normalize=True)\n",
    "print('Accuracy Score is : ', AccScore)"
   ]
  },
  {
   "cell_type": "markdown",
   "id": "144416b2",
   "metadata": {
    "papermill": {
     "duration": 0.016151,
     "end_time": "2022-11-27T22:25:59.720987",
     "exception": false,
     "start_time": "2022-11-27T22:25:59.704836",
     "status": "completed"
    },
    "tags": []
   },
   "source": [
    "# Calculating F1 Score : 2 * (precision * recall) / (precision + recall)"
   ]
  },
  {
   "cell_type": "code",
   "execution_count": 27,
   "id": "9eb5f9f0",
   "metadata": {
    "execution": {
     "iopub.execute_input": "2022-11-27T22:25:59.756662Z",
     "iopub.status.busy": "2022-11-27T22:25:59.756192Z",
     "iopub.status.idle": "2022-11-27T22:25:59.765795Z",
     "shell.execute_reply": "2022-11-27T22:25:59.764031Z"
    },
    "papermill": {
     "duration": 0.03079,
     "end_time": "2022-11-27T22:25:59.768343",
     "exception": false,
     "start_time": "2022-11-27T22:25:59.737553",
     "status": "completed"
    },
    "tags": []
   },
   "outputs": [
    {
     "name": "stdout",
     "output_type": "stream",
     "text": [
      "F1 Score is :  0.934409687184662\n"
     ]
    }
   ],
   "source": [
    "F1Score = f1_score(y_test, y_pred, average='micro')\n",
    "print('F1 Score is : ', F1Score)"
   ]
  },
  {
   "cell_type": "markdown",
   "id": "e26aaab4",
   "metadata": {
    "papermill": {
     "duration": 0.016098,
     "end_time": "2022-11-27T22:25:59.801038",
     "exception": false,
     "start_time": "2022-11-27T22:25:59.784940",
     "status": "completed"
    },
    "tags": []
   },
   "source": [
    "# Calculating Recall Score : (Sensitivity) (TP / float(TP + FN)) 1 / 1+2"
   ]
  },
  {
   "cell_type": "code",
   "execution_count": 28,
   "id": "ead4a8aa",
   "metadata": {
    "execution": {
     "iopub.execute_input": "2022-11-27T22:25:59.836362Z",
     "iopub.status.busy": "2022-11-27T22:25:59.835336Z",
     "iopub.status.idle": "2022-11-27T22:25:59.844649Z",
     "shell.execute_reply": "2022-11-27T22:25:59.842871Z"
    },
    "papermill": {
     "duration": 0.02998,
     "end_time": "2022-11-27T22:25:59.847460",
     "exception": false,
     "start_time": "2022-11-27T22:25:59.817480",
     "status": "completed"
    },
    "tags": []
   },
   "outputs": [
    {
     "name": "stdout",
     "output_type": "stream",
     "text": [
      "Recall Score is :  0.934409687184662\n"
     ]
    }
   ],
   "source": [
    "RecallScore = recall_score(y_test, y_pred, average='micro') #it can be : binary,macro,weighted,samples\n",
    "print('Recall Score is : ', RecallScore)"
   ]
  },
  {
   "cell_type": "markdown",
   "id": "a55dd427",
   "metadata": {
    "papermill": {
     "duration": 0.016253,
     "end_time": "2022-11-27T22:25:59.880728",
     "exception": false,
     "start_time": "2022-11-27T22:25:59.864475",
     "status": "completed"
    },
    "tags": []
   },
   "source": [
    "# Calculating Precision Score : (Specificity) #(TP / float(TP + FP))"
   ]
  },
  {
   "cell_type": "code",
   "execution_count": 29,
   "id": "cd6f799e",
   "metadata": {
    "execution": {
     "iopub.execute_input": "2022-11-27T22:25:59.917244Z",
     "iopub.status.busy": "2022-11-27T22:25:59.916761Z",
     "iopub.status.idle": "2022-11-27T22:25:59.926772Z",
     "shell.execute_reply": "2022-11-27T22:25:59.925376Z"
    },
    "papermill": {
     "duration": 0.030282,
     "end_time": "2022-11-27T22:25:59.929045",
     "exception": false,
     "start_time": "2022-11-27T22:25:59.898763",
     "status": "completed"
    },
    "tags": []
   },
   "outputs": [
    {
     "name": "stdout",
     "output_type": "stream",
     "text": [
      "Precision Score is :  0.934409687184662\n"
     ]
    }
   ],
   "source": [
    "PrecisionScore = precision_score(y_test, y_pred, average='micro')\n",
    "print('Precision Score is : ', PrecisionScore)"
   ]
  },
  {
   "cell_type": "markdown",
   "id": "b51ef2aa",
   "metadata": {
    "papermill": {
     "duration": 0.016051,
     "end_time": "2022-11-27T22:25:59.961944",
     "exception": false,
     "start_time": "2022-11-27T22:25:59.945893",
     "status": "completed"
    },
    "tags": []
   },
   "source": [
    "# Calculating Precision recall Curve :"
   ]
  },
  {
   "cell_type": "code",
   "execution_count": 30,
   "id": "dfe506c8",
   "metadata": {
    "execution": {
     "iopub.execute_input": "2022-11-27T22:25:59.999559Z",
     "iopub.status.busy": "2022-11-27T22:25:59.998423Z",
     "iopub.status.idle": "2022-11-27T22:26:00.008261Z",
     "shell.execute_reply": "2022-11-27T22:26:00.006749Z"
    },
    "papermill": {
     "duration": 0.032276,
     "end_time": "2022-11-27T22:26:00.011013",
     "exception": false,
     "start_time": "2022-11-27T22:25:59.978737",
     "status": "completed"
    },
    "tags": []
   },
   "outputs": [
    {
     "name": "stdout",
     "output_type": "stream",
     "text": [
      "Precision Value is :  [0.4308779  0.91136364 1.        ]\n",
      "Recall Value is :  [1.         0.93911007 0.        ]\n",
      "Thresholds Value is :  [0 1]\n"
     ]
    }
   ],
   "source": [
    "PrecisionValue, RecallValue, ThresholdsValue = precision_recall_curve(y_test,y_pred)\n",
    "print('Precision Value is : ', PrecisionValue)\n",
    "print('Recall Value is : ', RecallValue)\n",
    "print('Thresholds Value is : ', ThresholdsValue)"
   ]
  },
  {
   "cell_type": "markdown",
   "id": "4d6eef05",
   "metadata": {
    "papermill": {
     "duration": 0.016331,
     "end_time": "2022-11-27T22:26:00.044346",
     "exception": false,
     "start_time": "2022-11-27T22:26:00.028015",
     "status": "completed"
    },
    "tags": []
   },
   "source": [
    "# Calculating classification Report "
   ]
  },
  {
   "cell_type": "code",
   "execution_count": 31,
   "id": "b00a9ed8",
   "metadata": {
    "execution": {
     "iopub.execute_input": "2022-11-27T22:26:00.080022Z",
     "iopub.status.busy": "2022-11-27T22:26:00.079213Z",
     "iopub.status.idle": "2022-11-27T22:26:00.091280Z",
     "shell.execute_reply": "2022-11-27T22:26:00.089906Z"
    },
    "papermill": {
     "duration": 0.032781,
     "end_time": "2022-11-27T22:26:00.093644",
     "exception": false,
     "start_time": "2022-11-27T22:26:00.060863",
     "status": "completed"
    },
    "tags": []
   },
   "outputs": [
    {
     "name": "stdout",
     "output_type": "stream",
     "text": [
      "Classification Report is :                precision    recall  f1-score   support\n",
      "\n",
      "           0       0.95      0.93      0.94       564\n",
      "           1       0.91      0.94      0.93       427\n",
      "\n",
      "    accuracy                           0.93       991\n",
      "   macro avg       0.93      0.93      0.93       991\n",
      "weighted avg       0.93      0.93      0.93       991\n",
      "\n"
     ]
    }
   ],
   "source": [
    "ClassificationReport = classification_report(y_test,y_pred)\n",
    "print('Classification Report is : ', ClassificationReport )"
   ]
  },
  {
   "cell_type": "markdown",
   "id": "3e6c09ee",
   "metadata": {
    "papermill": {
     "duration": 0.016212,
     "end_time": "2022-11-27T22:26:00.126612",
     "exception": false,
     "start_time": "2022-11-27T22:26:00.110400",
     "status": "completed"
    },
    "tags": []
   },
   "source": [
    "\n",
    "# Calculating ROC AUC Score"
   ]
  },
  {
   "cell_type": "code",
   "execution_count": 32,
   "id": "154b3b5d",
   "metadata": {
    "execution": {
     "iopub.execute_input": "2022-11-27T22:26:00.163695Z",
     "iopub.status.busy": "2022-11-27T22:26:00.162798Z",
     "iopub.status.idle": "2022-11-27T22:26:00.172617Z",
     "shell.execute_reply": "2022-11-27T22:26:00.170768Z"
    },
    "papermill": {
     "duration": 0.032414,
     "end_time": "2022-11-27T22:26:00.175940",
     "exception": false,
     "start_time": "2022-11-27T22:26:00.143526",
     "status": "completed"
    },
    "tags": []
   },
   "outputs": [
    {
     "name": "stdout",
     "output_type": "stream",
     "text": [
      "ROCAUC Score :  0.9349805670436991\n"
     ]
    }
   ],
   "source": [
    "ROCAUCScore = roc_auc_score(y_test,y_pred, average='micro') #it can be : macro,weighted,samples\n",
    "print('ROCAUC Score : ', ROCAUCScore)"
   ]
  },
  {
   "cell_type": "markdown",
   "id": "1c3c220a",
   "metadata": {
    "papermill": {
     "duration": 0.017163,
     "end_time": "2022-11-27T22:26:00.210883",
     "exception": false,
     "start_time": "2022-11-27T22:26:00.193720",
     "status": "completed"
    },
    "tags": []
   },
   "source": [
    "# sava y_pred as csv"
   ]
  },
  {
   "cell_type": "code",
   "execution_count": 33,
   "id": "3f14b108",
   "metadata": {
    "execution": {
     "iopub.execute_input": "2022-11-27T22:26:00.247212Z",
     "iopub.status.busy": "2022-11-27T22:26:00.246690Z",
     "iopub.status.idle": "2022-11-27T22:26:00.267723Z",
     "shell.execute_reply": "2022-11-27T22:26:00.266477Z"
    },
    "papermill": {
     "duration": 0.042083,
     "end_time": "2022-11-27T22:26:00.270115",
     "exception": false,
     "start_time": "2022-11-27T22:26:00.228032",
     "status": "completed"
    },
    "tags": []
   },
   "outputs": [
    {
     "data": {
      "text/html": [
       "<div>\n",
       "<style scoped>\n",
       "    .dataframe tbody tr th:only-of-type {\n",
       "        vertical-align: middle;\n",
       "    }\n",
       "\n",
       "    .dataframe tbody tr th {\n",
       "        vertical-align: top;\n",
       "    }\n",
       "\n",
       "    .dataframe thead th {\n",
       "        text-align: right;\n",
       "    }\n",
       "</style>\n",
       "<table border=\"1\" class=\"dataframe\">\n",
       "  <thead>\n",
       "    <tr style=\"text-align: right;\">\n",
       "      <th></th>\n",
       "      <th>prediction</th>\n",
       "    </tr>\n",
       "  </thead>\n",
       "  <tbody>\n",
       "    <tr>\n",
       "      <th>0</th>\n",
       "      <td>Beginner</td>\n",
       "    </tr>\n",
       "    <tr>\n",
       "      <th>1</th>\n",
       "      <td>Beginner</td>\n",
       "    </tr>\n",
       "    <tr>\n",
       "      <th>2</th>\n",
       "      <td>Intermediate</td>\n",
       "    </tr>\n",
       "    <tr>\n",
       "      <th>3</th>\n",
       "      <td>Beginner</td>\n",
       "    </tr>\n",
       "    <tr>\n",
       "      <th>4</th>\n",
       "      <td>Beginner</td>\n",
       "    </tr>\n",
       "    <tr>\n",
       "      <th>...</th>\n",
       "      <td>...</td>\n",
       "    </tr>\n",
       "    <tr>\n",
       "      <th>986</th>\n",
       "      <td>Beginner</td>\n",
       "    </tr>\n",
       "    <tr>\n",
       "      <th>987</th>\n",
       "      <td>Beginner</td>\n",
       "    </tr>\n",
       "    <tr>\n",
       "      <th>988</th>\n",
       "      <td>Intermediate</td>\n",
       "    </tr>\n",
       "    <tr>\n",
       "      <th>989</th>\n",
       "      <td>Intermediate</td>\n",
       "    </tr>\n",
       "    <tr>\n",
       "      <th>990</th>\n",
       "      <td>Intermediate</td>\n",
       "    </tr>\n",
       "  </tbody>\n",
       "</table>\n",
       "<p>991 rows × 1 columns</p>\n",
       "</div>"
      ],
      "text/plain": [
       "       prediction\n",
       "0        Beginner\n",
       "1        Beginner\n",
       "2    Intermediate\n",
       "3        Beginner\n",
       "4        Beginner\n",
       "..            ...\n",
       "986      Beginner\n",
       "987      Beginner\n",
       "988  Intermediate\n",
       "989  Intermediate\n",
       "990  Intermediate\n",
       "\n",
       "[991 rows x 1 columns]"
      ]
     },
     "execution_count": 33,
     "metadata": {},
     "output_type": "execute_result"
    }
   ],
   "source": [
    "submision=[]\n",
    "for i in y_pred:\n",
    "    if i==0:\n",
    "        submision.append('Beginner')\n",
    "    else:\n",
    "        submision.append('Intermediate')\n",
    "submision=pd.DataFrame(submision,columns=['prediction'])\n",
    "submision.to_csv('/kaggle/working/prediction.csv')\n",
    "submision"
   ]
  }
 ],
 "metadata": {
  "kernelspec": {
   "display_name": "Python 3",
   "language": "python",
   "name": "python3"
  },
  "language_info": {
   "codemirror_mode": {
    "name": "ipython",
    "version": 3
   },
   "file_extension": ".py",
   "mimetype": "text/x-python",
   "name": "python",
   "nbconvert_exporter": "python",
   "pygments_lexer": "ipython3",
   "version": "3.7.12"
  },
  "papermill": {
   "default_parameters": {},
   "duration": 16.075088,
   "end_time": "2022-11-27T22:26:01.414584",
   "environment_variables": {},
   "exception": null,
   "input_path": "__notebook__.ipynb",
   "output_path": "__notebook__.ipynb",
   "parameters": {},
   "start_time": "2022-11-27T22:25:45.339496",
   "version": "2.3.4"
  }
 },
 "nbformat": 4,
 "nbformat_minor": 5
}
